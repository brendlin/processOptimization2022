{
 "cells": [
  {
   "cell_type": "code",
   "execution_count": null,
   "id": "0c59f12b",
   "metadata": {},
   "outputs": [],
   "source": [
    "import os\n",
    "import numpy as np\n",
    "import pandas as pd\n",
    "\n",
    "# pandapower imports\n",
    "import pandapower as pp\n",
    "import pandapower.plotting as plot\n",
    "import matplotlib.pyplot as plt\n",
    "\n",
    "from pandapower.timeseries import DFData, OutputWriter\n",
    "from pandapower.control import ConstControl\n",
    "\n",
    "from pandapower.timeseries.run_time_series import run_timeseries\n",
    "#from pandaplan.core.timeseries.run_profile_cython.run_cython import run_timeseries\n",
    "\n",
    "import simbench\n",
    "\n",
    "from sklearn.model_selection import train_test_split\n",
    "\n",
    "# torch imports\n",
    "import torch\n",
    "from torch_geometric.data import Data\n",
    "\n",
    "#\n",
    "from pandapowerHelpers.simbench_helpers import (\n",
    "    create_gen_profile_df_from_simbench\n",
    ")\n",
    "from pandapowerHelpers.toolbox_extension import create_unique_ids\n",
    "from pandapowerHelpers import (\n",
    "    simple_plot_custom,\n",
    "    plot_powerflow_quiver,\n",
    "    plot_capacities,\n",
    "    write_line_annotations,\n",
    "    write_bus_annotations\n",
    ")\n",
    "\n",
    "plt.rcParams.update({'font.size': 12})"
   ]
  },
  {
   "cell_type": "markdown",
   "id": "6aa4208c",
   "metadata": {},
   "source": [
    "Let's grab the network and have a look\n",
    "--------\n",
    "\n",
    "This is \"Case 5\" from the power system test cases. The controllable generators have been replaced by static generators. "
   ]
  },
  {
   "cell_type": "code",
   "execution_count": null,
   "id": "ab20d136",
   "metadata": {},
   "outputs": [],
   "source": [
    "net = pp.from_json(os.path.join(pp.pp_dir, \"networks\",\"power_system_test_case_jsons\", \"case5.json\"))\n",
    "#net.sgen = pd.concat([net.gen,net.sgen])\n",
    "net.sgen = net.gen[:]\n",
    "net.sgen['q_mvar'] = 0\n",
    "net.gen = net.gen[0:0]\n",
    "create_unique_ids(net,'load')\n",
    "create_unique_ids(net,'sgen')\n",
    "pp.runpp(net)"
   ]
  },
  {
   "cell_type": "code",
   "execution_count": null,
   "id": "8d882208",
   "metadata": {},
   "outputs": [],
   "source": [
    "net.load"
   ]
  },
  {
   "cell_type": "code",
   "execution_count": null,
   "id": "21fed778",
   "metadata": {},
   "outputs": [],
   "source": [
    "bus_size=0.03\n",
    "text_size=30"
   ]
  },
  {
   "cell_type": "code",
   "execution_count": null,
   "id": "2ec150ff",
   "metadata": {},
   "outputs": [],
   "source": [
    "net.res_line"
   ]
  },
  {
   "cell_type": "code",
   "execution_count": null,
   "id": "457067c8",
   "metadata": {},
   "outputs": [],
   "source": [
    "#plot.simple_plot(net, show_plot=True)\n",
    "fig,axes = plt.subplots(1,1,figsize=(8,8))\n",
    "\n",
    "ax = axes\n",
    "simple_plot_custom(net,ax=ax)\n",
    "plot_capacities(net,ax=ax,size=bus_size);\n",
    "plot_powerflow_quiver(net,ax=ax,scale=1,units='x',pivot='mid',width=0.025,zorder=100,n_arrows_smallestline=2)\n",
    "\n",
    "# Some line loading annotations\n",
    "lineid_loading = np.char.mod('%.0f%%',net.res_line['loading_percent'])\n",
    "#write_line_annotations(net,ax,net.line.index,lineid_loading,size=text_size,margin=0.08)\n",
    "line_index = np.char.mod('line %d',net.line.index)\n",
    "write_line_annotations(net,ax,net.line.index,line_index,size=text_size,margin=0.08)\n",
    "\n",
    "load_bus_index = net.load.groupby('bus').sum().index\n",
    "load_p = np.char.mod('$\\minus$%.0f MW',net.load.groupby('bus').sum()['p_mw'])\n",
    "gen_bus_index = net.gen.groupby('bus').sum().index\n",
    "gen_p  = np.char.mod('+%.0f MW',net.gen.groupby('bus').sum()['p_mw'])\n",
    "\n",
    "bus_index = np.char.mod('bus %d',net.bus.index)\n",
    "write_bus_annotations(net,ax,net.bus.index,bus_index,size=text_size,margin=0.01,placement='topleft')\n",
    "#write_bus_annotations(net,ax,load_bus_index,load_p,size=0.1,margin=0.01,placement='topright')\n",
    "#write_bus_annotations(net,ax,gen_bus_index,gen_p,size=0.1,margin=0.01,placement='bottomright')\n",
    "ax.set_xlim([-4.5,-2.0])#ax = axes[1]\n",
    "#simple_plot_custom(net,ax=ax,use_bus_geodata=True);\n",
    "#plot_powerflow_quiver(net,ax=ax,scale=1,units='x',pivot='mid',width=0.020,zorder=100,n_arrows_smallestline=3)"
   ]
  },
  {
   "cell_type": "markdown",
   "id": "c539fd9a",
   "metadata": {},
   "source": [
    "Load some Simbench profiles and look at the network\n",
    "--------\n",
    "\n",
    "Load and generator profiles are taken from the list of simbench profiles."
   ]
  },
  {
   "cell_type": "code",
   "execution_count": null,
   "id": "c6629a63",
   "metadata": {},
   "outputs": [],
   "source": [
    "profiles = simbench.get_all_simbench_profiles(0)"
   ]
  },
  {
   "cell_type": "code",
   "execution_count": null,
   "id": "21f90610",
   "metadata": {},
   "outputs": [],
   "source": [
    "def create_load_profile_df_from_simbench(load_df,_profiles,profile_name_list=[],isQ=False) :\n",
    "    # load_df expects \"net.load\"\n",
    "    # If no profile_name_list is provided, then\n",
    "    # the function will assume that a 'profile' column exists in `net`.\n",
    "\n",
    "    profile_dict = {}\n",
    "\n",
    "    for i,load_row in load_df.iterrows() :\n",
    "\n",
    "        # Get the column name (e.g. \"BL-H_qload\")\n",
    "        profilename = profile_name_list[i] if len(profile_name_list) else load_row['profile']\n",
    "        columnname = '{}_{}load'.format(profilename,'q' if isQ else 'p')\n",
    "\n",
    "        # Scale by the initial net load (standard in simbench)\n",
    "        scale_factor = load_row.q_mvar if isQ else load_row.p_mw\n",
    "\n",
    "        # Find the profile\n",
    "        profile = _profiles['load'][columnname]\n",
    "\n",
    "        # Scale the profile\n",
    "        profile_dict[load_row['name']] = scale_factor * profile\n",
    "\n",
    "    profile_df = pd.DataFrame.from_dict(profile_dict)\n",
    "    return profile_df"
   ]
  },
  {
   "cell_type": "code",
   "execution_count": null,
   "id": "6b5d837b",
   "metadata": {},
   "outputs": [],
   "source": [
    "# Grab profiles from Simbench\n",
    "\n",
    "load_profile_name_list = ['G3-H','H0-H','L2-M']\n",
    "sgen_profile_name_list = ['PV2','pp_1','WP1']\n",
    "\n",
    "max_timestep = 35136\n",
    "\n",
    "load_df_p = create_load_profile_df_from_simbench(net.load,profiles,profile_name_list=load_profile_name_list,isQ=False)\n",
    "load_df_q = create_load_profile_df_from_simbench(net.load,profiles,profile_name_list=load_profile_name_list,isQ=True)\n",
    "sgen_df_p  = create_gen_profile_df_from_simbench(net.sgen,profiles,profile_name_list=sgen_profile_name_list)\n",
    "\n",
    "load_df_p = load_df_p[:max_timestep]\n",
    "load_df_q = load_df_q[:max_timestep]\n",
    "sgen_df_p = sgen_df_p[:max_timestep]\n",
    "\n",
    "# Scale up the PV to make it more consequential\n",
    "sgen_df_p['sgen_bus00_01'] = sgen_df_p['sgen_bus00_01']*20"
   ]
  },
  {
   "cell_type": "code",
   "execution_count": null,
   "id": "0369d1ea",
   "metadata": {},
   "outputs": [],
   "source": [
    "fig,axes = plt.subplots(1,1,figsize=(16,4))\n",
    "ax = axes\n",
    "\n",
    "max_timestep_plot = 35136\n",
    "\n",
    "load_labels = list('{} {}'.format(row['name'],load_profile_name_list[i]) for i,row in net.load.iterrows())\n",
    "sgen_labels = list('{} {}'.format(row['name'],sgen_profile_name_list[i] ) for i,row in net.sgen.iterrows())\n",
    "\n",
    "ax.plot(load_df_p[:max_timestep_plot],label=load_labels)\n",
    "ax.plot(sgen_df_p[:max_timestep_plot],label=sgen_labels)\n",
    "ax.set(xlabel='timestep',ylabel='Power [MW]')\n",
    "ax.legend(ncol=2);\n",
    "ax.set_ylim([0,700])"
   ]
  },
  {
   "cell_type": "code",
   "execution_count": null,
   "id": "91a67d79",
   "metadata": {},
   "outputs": [],
   "source": [
    "# Load profiles into net\n",
    "\n",
    "dfdata_load_p = DFData(load_df_p)\n",
    "dfdata_load_q = DFData(load_df_q)\n",
    "dfdata_sgen_p = DFData(sgen_df_p)\n",
    "\n",
    "net.controller = net.controller[0:0]\n",
    "ConstControl(net, element='load', variable='p_mw', element_index=net.load.index,\n",
    "             data_source=dfdata_load_p, profile_name=net.load['name'])\n",
    "ConstControl(net, element='load', variable='q_mvar', element_index=net.load.index,\n",
    "             data_source=dfdata_load_q, profile_name=net.load['name'])\n",
    "ConstControl(net, element='sgen', variable='p_mw', element_index=net.sgen.index,\n",
    "             data_source=dfdata_sgen_p, profile_name=net.sgen['name'])"
   ]
  },
  {
   "cell_type": "markdown",
   "id": "aadfe10a",
   "metadata": {},
   "source": [
    "The input data X\n",
    "--------"
   ]
  },
  {
   "cell_type": "code",
   "execution_count": null,
   "id": "0ecbb876",
   "metadata": {},
   "outputs": [],
   "source": [
    "# The shape of the X data should be (n_timesteps, n_inputs)\n",
    "X = pd.concat([load_df_p,load_df_q,sgen_df_p],axis=1)\n",
    "X = X.values\n",
    "X.shape"
   ]
  },
  {
   "cell_type": "code",
   "execution_count": null,
   "id": "9281a7d2",
   "metadata": {},
   "outputs": [],
   "source": [
    "load_df_p_csv = load_df_p.rename(columns={i:'{}_p'.format(i) for i in load_df_p.columns})\n",
    "load_df_q_csv = load_df_q.rename(columns={i:'{}_q'.format(i) for i in load_df_q.columns})\n",
    "sgen_df_p_csv = sgen_df_p.rename(columns={i:'{}_p'.format(i) for i in sgen_df_p.columns})"
   ]
  },
  {
   "cell_type": "code",
   "execution_count": null,
   "id": "1790ec31",
   "metadata": {},
   "outputs": [],
   "source": [
    "X_dataframe = pd.concat([load_df_p_csv,load_df_q_csv,sgen_df_p_csv],axis=1)\n",
    "X_dataframe"
   ]
  },
  {
   "cell_type": "code",
   "execution_count": null,
   "id": "c4fd4ff5",
   "metadata": {},
   "outputs": [],
   "source": [
    "net.load"
   ]
  },
  {
   "cell_type": "markdown",
   "id": "d381af66",
   "metadata": {},
   "source": [
    "The output data Y\n",
    "---------"
   ]
  },
  {
   "cell_type": "code",
   "execution_count": null,
   "id": "2cb4c9f0",
   "metadata": {},
   "outputs": [],
   "source": [
    "# the outputwriter contains the power flow results\n",
    "if hasattr(net,'output_writer') :\n",
    "    del net.output_writer\n",
    "\n",
    "run_timeseries(net, time_steps=range(max_timestep), verbose=False)\n",
    "Y = net.output_writer.loc[0, \"object\"].output\n",
    "Y = Y['res_line.loading_percent'].values\n",
    "\n",
    "Y.shape"
   ]
  },
  {
   "cell_type": "markdown",
   "id": "71f3f566",
   "metadata": {},
   "source": [
    "Save the input and output to a csv file that can be loaded for the exercise.\n",
    "--------"
   ]
  },
  {
   "cell_type": "code",
   "execution_count": null,
   "id": "fd9cc1a0",
   "metadata": {},
   "outputs": [],
   "source": [
    "Y_dataframe = net.output_writer.loc[0, \"object\"].output['res_line.loading_percent']\n",
    "if 'loading_percent' not in str(Y_dataframe.columns[0]) :\n",
    "    Y_dataframe = Y_dataframe.rename(columns={i:'line {} loading_percent'.format(i) for i in Y_dataframe.columns})"
   ]
  },
  {
   "cell_type": "code",
   "execution_count": null,
   "id": "a5ea3f8d",
   "metadata": {},
   "outputs": [],
   "source": [
    "Y_dataframe"
   ]
  },
  {
   "cell_type": "code",
   "execution_count": null,
   "id": "74c8564e",
   "metadata": {},
   "outputs": [],
   "source": [
    "all_data = pd.concat([X_dataframe,Y_dataframe],axis=1)\n",
    "all_data.to_csv('case5.csv',index=False)\n",
    "\n",
    "all_data"
   ]
  },
  {
   "cell_type": "markdown",
   "id": "614bf91d",
   "metadata": {},
   "source": [
    "For the analysis, see \"grid_powerflow_with_ann\"\n",
    "-------"
   ]
  }
 ],
 "metadata": {
  "kernelspec": {
   "display_name": "torch_pyg",
   "language": "python",
   "name": "torch_pyg"
  },
  "language_info": {
   "codemirror_mode": {
    "name": "ipython",
    "version": 3
   },
   "file_extension": ".py",
   "mimetype": "text/x-python",
   "name": "python",
   "nbconvert_exporter": "python",
   "pygments_lexer": "ipython3",
   "version": "3.8.13"
  }
 },
 "nbformat": 4,
 "nbformat_minor": 5
}
