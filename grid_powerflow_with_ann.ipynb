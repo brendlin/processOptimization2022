{
 "cells": [
  {
   "cell_type": "code",
   "execution_count": null,
   "id": "7f3a43c7",
   "metadata": {},
   "outputs": [],
   "source": [
    "import pandas as pd\n",
    "from sklearn.model_selection import train_test_split\n",
    "from sklearn.preprocessing import StandardScaler\n",
    "import matplotlib.pyplot as plt\n",
    "\n",
    "import torch\n",
    "from torch.optim import Adam"
   ]
  },
  {
   "cell_type": "code",
   "execution_count": null,
   "id": "142efdfe",
   "metadata": {},
   "outputs": [],
   "source": [
    "df = pd.read_csv('case5.csv')\n",
    "df"
   ]
  },
  {
   "cell_type": "code",
   "execution_count": null,
   "id": "914826f0",
   "metadata": {},
   "outputs": [],
   "source": [
    "load_p_columns = [c for c in df.columns if 'load_' in c and '_p' in c]\n",
    "load_q_columns = [c for c in df.columns if 'load_' in c and '_q' in c]\n",
    "sgen_p_columns = [c for c in df.columns if 'sgen_' in c and '_p' in c]\n",
    "ll_columns = [c for c in df.columns if 'loading' in c]"
   ]
  },
  {
   "cell_type": "markdown",
   "id": "ec07eb2c",
   "metadata": {},
   "source": [
    "Data plots\n",
    "--------\n",
    "\n",
    "List of plots:\n",
    " - Generators and loads (entire year)\n",
    " - Generators and loads (5000 timesteps - 52 days, 5-hour sliding window)\n",
    " - Line loading (log scale -- 5000 timesteps)"
   ]
  },
  {
   "cell_type": "code",
   "execution_count": null,
   "id": "75dc4c46",
   "metadata": {},
   "outputs": [],
   "source": [
    "fig,axes = plt.subplots(1,1,figsize=(16,4))\n",
    "ax = axes\n",
    "\n",
    "max_timestep_plot = 35136\n",
    "\n",
    "ax.plot(df[load_p_columns],label=load_p_columns)\n",
    "ax.plot(df[sgen_p_columns],label=sgen_p_columns)\n",
    "\n",
    "ax.set(xlabel='timestep',ylabel='Power [MW]')\n",
    "ax.legend(ncol=2);\n",
    "ax.set_ylim([0,700])"
   ]
  },
  {
   "cell_type": "code",
   "execution_count": null,
   "id": "62d77bb1",
   "metadata": {},
   "outputs": [],
   "source": [
    "fig,axes = plt.subplots(1,1,figsize=(16,4))\n",
    "ax = axes\n",
    "\n",
    "max_timestep_plot = 5000\n",
    "wnd = 20\n",
    "\n",
    "ax.plot(df[load_p_columns].rolling(window=wnd).mean()[:max_timestep_plot],label=load_p_columns)\n",
    "ax.plot(df[sgen_p_columns].rolling(window=wnd).mean()[:max_timestep_plot],label=sgen_p_columns)\n",
    "\n",
    "ax.set(xlabel='timestep',ylabel='Power [MW]')\n",
    "ax.legend(ncol=2);\n",
    "ax.set_ylim([0,700])"
   ]
  },
  {
   "cell_type": "code",
   "execution_count": null,
   "id": "ba71f129",
   "metadata": {},
   "outputs": [],
   "source": [
    "fig,axes = plt.subplots(1,1,figsize=(16,4))\n",
    "ax = axes\n",
    "\n",
    "max_timestep_plot = 5000\n",
    "wnd = 20\n",
    "\n",
    "ax.plot(df[ll_columns].rolling(window=wnd).mean()[:max_timestep_plot],label=ll_columns)\n",
    "\n",
    "ax.set(xlabel='timestep',ylabel='Loading [%]')\n",
    "ax.legend(ncol=2);\n",
    "ax.set_yscale('log')\n",
    "ax.set_ylim([None,150])"
   ]
  },
  {
   "cell_type": "markdown",
   "id": "3d30c080",
   "metadata": {},
   "source": [
    "Create the X and Y data\n",
    "----------"
   ]
  },
  {
   "cell_type": "code",
   "execution_count": null,
   "id": "5fee4152",
   "metadata": {},
   "outputs": [],
   "source": [
    "x_columns = load_p_columns + load_q_columns + sgen_p_columns\n",
    "X = df[x_columns].values\n",
    "X.shape"
   ]
  },
  {
   "cell_type": "code",
   "execution_count": null,
   "id": "3f60ce5f",
   "metadata": {},
   "outputs": [],
   "source": [
    "Y = df[ll_columns].values\n",
    "Y.shape"
   ]
  },
  {
   "cell_type": "markdown",
   "id": "2c096c00",
   "metadata": {},
   "source": [
    "Split into test and train datasets\n",
    "----------"
   ]
  },
  {
   "cell_type": "code",
   "execution_count": null,
   "id": "ad07cfd6",
   "metadata": {},
   "outputs": [],
   "source": [
    "X_train, X_test, Y_train, Y_test = train_test_split(X, Y, test_size=0.2, random_state=42)\n",
    "print('Train size: {} {}, test size: {} {}'.format(X_train.shape,Y_train.shape,X_test.shape,Y_test.shape))"
   ]
  },
  {
   "cell_type": "markdown",
   "id": "7b7546f6",
   "metadata": {},
   "source": [
    "Define the pytorch feed-forward neural network\n",
    "---------"
   ]
  },
  {
   "cell_type": "code",
   "execution_count": null,
   "id": "af0312f2",
   "metadata": {},
   "outputs": [],
   "source": [
    "class FeedForwardNetwork(torch.nn.Module):\n",
    "    \"\"\"\n",
    "    A simple torch feed-forward Neural Network\n",
    "    \"\"\"\n",
    "\n",
    "    def __init__(self, input_dim, output_dim, hidden_dim):\n",
    "        super(FeedForwardNetwork, self).__init__()\n",
    "\n",
    "        self.network = torch.nn.Sequential(\n",
    "            torch.nn.Linear(input_dim, hidden_dim),\n",
    "            torch.nn.ReLU(),\n",
    "            torch.nn.Linear(hidden_dim, output_dim)\n",
    "        )\n",
    "\n",
    "    def forward(self, X):\n",
    "        return self.network(X)"
   ]
  },
  {
   "cell_type": "code",
   "execution_count": null,
   "id": "77225924",
   "metadata": {},
   "outputs": [],
   "source": [
    "class FeedForwardNetwork_Explicit(torch.nn.Module):\n",
    "    \"\"\"\n",
    "    A simple torch feed-forward Neural Network\n",
    "    \"\"\"\n",
    "\n",
    "    def __init__(self, input_dim, output_dim, hidden_dim):\n",
    "        super(FeedForwardNetwork_Explicit, self).__init__()\n",
    "\n",
    "        # simple ANN with two layers\n",
    "        self.linear1 = torch.nn.Linear(input_dim, hidden_dim)\n",
    "        self.linear2 = torch.nn.Linear(hidden_dim, output_dim)\n",
    "        \n",
    "    def forward(self, X):\n",
    "        # forward pass\n",
    "        X = self.linear1(X)\n",
    "        X = torch.relu(X)\n",
    "        X = self.linear2(X)\n",
    "        return X"
   ]
  },
  {
   "cell_type": "code",
   "execution_count": null,
   "id": "1b1ab05f",
   "metadata": {},
   "outputs": [],
   "source": [
    "model = FeedForwardNetwork(9, 3, 6)"
   ]
  },
  {
   "cell_type": "code",
   "execution_count": null,
   "id": "1f86f0bd",
   "metadata": {},
   "outputs": [],
   "source": [
    "for i in model.named_parameters() :\n",
    "    print(i)"
   ]
  },
  {
   "cell_type": "code",
   "execution_count": null,
   "id": "814866f3",
   "metadata": {},
   "outputs": [],
   "source": [
    "class TorchModel(object):\n",
    "    \"\"\"\n",
    "    Class which contains a torch ANN and some scaler etc.\n",
    "    \"\"\"\n",
    "\n",
    "    def __init__(self, input_dim, output_dim, hidden_dim, lr=0.001, epochs=1500):\n",
    "\n",
    "        self.model = FeedForwardNetwork(input_dim, output_dim, hidden_dim)\n",
    "        self.optimizer = Adam(self.model.parameters(), lr=lr)\n",
    "\n",
    "        self.epochs = epochs\n",
    "        # criterion for loss evaluation (-> reduce the mean squared error loss)\n",
    "        self.criterion = torch.nn.MSELoss()\n",
    "\n",
    "        self.losses = list()\n",
    "        self.x_scaler = StandardScaler()\n",
    "        self.y_scaler = StandardScaler()\n",
    "\n",
    "    def train(self, X, Y):\n",
    "        \n",
    "        X = torch.tensor(model.x_scaler.fit_transform(X)).float()\n",
    "        Y = torch.tensor(model.y_scaler.fit_transform(Y)).float()\n",
    "\n",
    "        for e in range(self.epochs):\n",
    "            # reset the gradient\n",
    "            self.optimizer.zero_grad()\n",
    "            # predict\n",
    "            y_pred = self.model(X)\n",
    "            # check \"how good\" the prediction was according to the criterion (the loss function)\n",
    "            loss = self.criterion(y_pred, Y)\n",
    "            # update the ANN parameters\n",
    "            loss.backward()\n",
    "            # store the loss\n",
    "            self.losses.append(loss.item())\n",
    "            self.optimizer.step()\n",
    "            if not e % (int(self.epochs/10)):\n",
    "                print(f\"ANN training epoch {e}: loss {loss.item():.4f}\")\n",
    "\n",
    "    def predict(self, X):\n",
    "        # since we scaled the data for training, we have to scale the data before predictions as well\n",
    "        X = torch.tensor(self.x_scaler.transform(X)).float()\n",
    "        # get tensors from numpy and predict\n",
    "        Y = self._predict(X)\n",
    "        # reverse the transformation to get the true values (line loadings, bus voltage...)\n",
    "        Y = self.y_scaler.inverse_transform(Y.detach().numpy())\n",
    "        return Y\n",
    "\n",
    "    def _predict(self, X):\n",
    "        return self.model(X)"
   ]
  },
  {
   "cell_type": "code",
   "execution_count": null,
   "id": "104bf976",
   "metadata": {},
   "outputs": [],
   "source": [
    "# get the torch model\n",
    "model = TorchModel(input_dim=X.shape[1], output_dim=Y.shape[1], hidden_dim=10, epochs=10000)\n",
    "\n",
    "# train the model. Since torch works with tensors, you have to call torch.from_numpy()\n",
    "model.train(torch.tensor(X).float(), torch.tensor(Y).float())"
   ]
  },
  {
   "cell_type": "markdown",
   "id": "1148654a",
   "metadata": {},
   "source": [
    "Loss on the test set\n",
    "------"
   ]
  },
  {
   "cell_type": "code",
   "execution_count": null,
   "id": "3c41b8f5",
   "metadata": {},
   "outputs": [],
   "source": [
    "Y_test_pred = model.predict(X_test)"
   ]
  },
  {
   "cell_type": "code",
   "execution_count": null,
   "id": "c94ed35f",
   "metadata": {},
   "outputs": [],
   "source": [
    "model.criterion(torch.tensor(model._predict(torch.tensor(model.x_scaler.transform(X_test)).float() ) ),\n",
    "                torch.tensor(model.y_scaler.transform(Y_test)))"
   ]
  },
  {
   "cell_type": "markdown",
   "id": "861f1585",
   "metadata": {},
   "source": [
    "Test it, and display how it did\n",
    "----------"
   ]
  },
  {
   "cell_type": "code",
   "execution_count": null,
   "id": "25fed3e6",
   "metadata": {},
   "outputs": [],
   "source": [
    "fig,axes = plt.subplots(1,2,figsize=(16,8))\n",
    "\n",
    "ax = axes[0]\n",
    "ax.plot(model.losses)\n",
    "ax.set_yscale('log')\n",
    "\n",
    "ax = axes[1]\n",
    "ax.plot(Y_test_pred/Y_test,label=['line {}'.format(a) for a in range(len(Y_test_pred[0]))] )\n",
    "ax.set(ylabel='line loading ratio (prediction/actual)')\n",
    "ax.legend()"
   ]
  }
 ],
 "metadata": {
  "kernelspec": {
   "display_name": "torch_pyg",
   "language": "python",
   "name": "torch_pyg"
  },
  "language_info": {
   "codemirror_mode": {
    "name": "ipython",
    "version": 3
   },
   "file_extension": ".py",
   "mimetype": "text/x-python",
   "name": "python",
   "nbconvert_exporter": "python",
   "pygments_lexer": "ipython3",
   "version": "3.8.13"
  }
 },
 "nbformat": 4,
 "nbformat_minor": 5
}
