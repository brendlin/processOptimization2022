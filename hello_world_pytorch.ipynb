{
 "cells": [
  {
   "cell_type": "code",
   "execution_count": null,
   "id": "309f7d33",
   "metadata": {},
   "outputs": [],
   "source": [
    "import numpy as np\n",
    "import matplotlib.pyplot as plt\n",
    "plt.rcParams.update({'font.size': 15})"
   ]
  },
  {
   "cell_type": "markdown",
   "id": "ed2e671d",
   "metadata": {},
   "source": [
    "We will create a simple linear relationship between the independent variable $x$ and the dependent (output) variable $y$"
   ]
  },
  {
   "cell_type": "code",
   "execution_count": null,
   "id": "3e6aad0c",
   "metadata": {},
   "outputs": [],
   "source": [
    "x = np.linspace(0,20,21)\n",
    "y = 2*x + np.random.default_rng(12345).normal(0,4,len(x))"
   ]
  },
  {
   "cell_type": "code",
   "execution_count": null,
   "id": "6fc29f54",
   "metadata": {},
   "outputs": [],
   "source": [
    "fig, ax = plt.subplots(figsize=(6,4))\n",
    "ax.plot(x,y,'o',label='data');\n",
    "ax.legend()\n",
    "ax.set(xlabel='x, input',ylabel='y, output')"
   ]
  },
  {
   "cell_type": "markdown",
   "id": "8d5fe1d5",
   "metadata": {},
   "source": [
    "Now we fit a line ($ax + b$) to this data:"
   ]
  },
  {
   "cell_type": "code",
   "execution_count": null,
   "id": "02684a1b",
   "metadata": {},
   "outputs": [],
   "source": [
    "from scipy.optimize import curve_fit"
   ]
  },
  {
   "cell_type": "code",
   "execution_count": null,
   "id": "5f345561",
   "metadata": {},
   "outputs": [],
   "source": [
    "def linear_model(x, a, b):\n",
    "    return a * x + b\n",
    "\n",
    "(a,b), _ = curve_fit(linear_model, x, y)\n",
    "print('Optimal parameters: a={:.2f}, b={:.2f}'.format(a,b))"
   ]
  },
  {
   "cell_type": "code",
   "execution_count": null,
   "id": "2c971567",
   "metadata": {},
   "outputs": [],
   "source": [
    "fig, ax = plt.subplots(figsize=(6,4))\n",
    "ax.plot(x,y,'o',label='data');\n",
    "_x = np.linspace(0,20,100)\n",
    "ax.plot(_x,linear_model(_x,a,b),linewidth=3,alpha=0.5,label='Linear fit')\n",
    "ax.legend()\n",
    "ax.set(xlabel='x, input',ylabel='y, output')"
   ]
  },
  {
   "cell_type": "markdown",
   "id": "2754271a",
   "metadata": {},
   "source": [
    "asdf"
   ]
  },
  {
   "cell_type": "code",
   "execution_count": null,
   "id": "61543afe",
   "metadata": {},
   "outputs": [],
   "source": [
    "import torch\n",
    "import torch.nn as nn\n",
    "from torch.optim import Adam\n",
    "\n",
    "torch.__version__"
   ]
  },
  {
   "cell_type": "code",
   "execution_count": null,
   "id": "3ecf7a67",
   "metadata": {},
   "outputs": [],
   "source": [
    "class SimpleLinearNetwork(nn.Module):\n",
    "    \"\"\"\n",
    "    A simple torch Neural Network reproducing a linear model (\"ax+b\")\n",
    "    \"\"\"\n",
    "\n",
    "    def __init__(self, input_dim, output_dim):\n",
    "        super(SimpleLinearNetwork, self).__init__()\n",
    "\n",
    "        # simple ANN with a single layer\n",
    "        self.linear = nn.Linear(input_dim, output_dim)\n",
    "\n",
    "    def forward(self, X):\n",
    "        # forward pass\n",
    "        X = self.linear(X)\n",
    "        return X"
   ]
  },
  {
   "cell_type": "code",
   "execution_count": null,
   "id": "4b7323e7",
   "metadata": {},
   "outputs": [],
   "source": [
    "model = SimpleLinearNetwork(1,1)\n",
    "optimizer = Adam(model.parameters(), lr=0.03)\n",
    "loss_function = torch.nn.MSELoss()"
   ]
  },
  {
   "cell_type": "code",
   "execution_count": null,
   "id": "22a92379",
   "metadata": {},
   "outputs": [],
   "source": [
    "for i in model.named_parameters() :\n",
    "    print(i)\n",
    "\n",
    "a_nn = model.linear.weight.tolist()[0][0]\n",
    "b_nn = model.linear.bias.tolist()[0]\n",
    "\n",
    "print('Network a (untrained):',a_nn)\n",
    "print('Network b (untrained):',b_nn)"
   ]
  },
  {
   "cell_type": "code",
   "execution_count": null,
   "id": "449294a5",
   "metadata": {},
   "outputs": [],
   "source": [
    "fig, axes = plt.subplots(1,2,figsize=(12,4))\n",
    "ax = axes[0]\n",
    "ax.plot(x,y,'o',label='data');\n",
    "_x = np.linspace(0,20,100)\n",
    "_X = torch.tensor(_x.reshape(100,1)).float()\n",
    "\n",
    "ax.plot(_x,linear_model(_x,a,b),linewidth=3,alpha=0.5,label='Optimal fit')\n",
    "\n",
    "random_init = model(_X).detach().numpy()\n",
    "ax.plot(_x,random_init,color='green',linestyle='dashed',label='Random initialization')\n",
    "ax.legend(prop={'size': 10})\n",
    "ax.set(xlabel='x, input',ylabel='y, output')\n",
    "\n",
    "ax = axes[1]\n",
    "ax.axis('off')"
   ]
  },
  {
   "cell_type": "code",
   "execution_count": null,
   "id": "c7d771e8",
   "metadata": {},
   "outputs": [],
   "source": [
    "X = torch.tensor(x.reshape(21,1)).float()\n",
    "Y = torch.tensor(y.reshape(21,1)).float()\n",
    "\n",
    "losses = []"
   ]
  },
  {
   "cell_type": "code",
   "execution_count": null,
   "id": "be4c2f52",
   "metadata": {},
   "outputs": [],
   "source": [
    "def train_n_epochs(n_epochs,losses_list) :\n",
    "\n",
    "    losses_list = []\n",
    "    \n",
    "    for i in range(n_epochs) :\n",
    "\n",
    "        # reset the gradient\n",
    "        optimizer.zero_grad()\n",
    "\n",
    "        # Ask the ANN to predict the output Y given the dataset's input X\n",
    "        y_pred = model(X)\n",
    "\n",
    "        # Calculate the total loss across the dataset\n",
    "        loss = loss_function(y_pred, Y)\n",
    "\n",
    "        # calculate the gradients using backpropagation\n",
    "        loss.backward()\n",
    "        losses.append(loss.item())\n",
    "\n",
    "        # The optimizer updates the ANN parameters using the gradients\n",
    "        optimizer.step()\n",
    "\n",
    "    return"
   ]
  },
  {
   "cell_type": "code",
   "execution_count": null,
   "id": "168f621e",
   "metadata": {},
   "outputs": [],
   "source": [
    "train_n_epochs(100,losses)\n",
    "epochs_100 = model(_X).detach().numpy()"
   ]
  },
  {
   "cell_type": "code",
   "execution_count": null,
   "id": "1fe7d804",
   "metadata": {},
   "outputs": [],
   "source": [
    "fig, axes = plt.subplots(1,2,figsize=(12,4))\n",
    "ax = axes[0]\n",
    "ax.plot(x,y,'o',label='data');\n",
    "\n",
    "ax.plot(_x,linear_model(_x,a,b),linewidth=3,alpha=0.5,label='Optimal fit')\n",
    "ax.plot(_x,random_init,color='lightgreen',linestyle='dashed',label='Random initialization')\n",
    "ax.plot(_x,epochs_100,color='b',linestyle='dashed',label='100 \\\"epochs\\\"')\n",
    "ax.legend(prop={'size': 10})\n",
    "ax.set(xlabel='x, input',ylabel='y, output')\n",
    "\n",
    "ax = axes[1]\n",
    "ax.plot(losses)\n",
    "ax.set(xlabel='epoch',ylabel='loss');\n",
    "ax.set(xlim=(-100,1600))\n",
    "ax.set_yscale('log')"
   ]
  },
  {
   "cell_type": "code",
   "execution_count": null,
   "id": "45f58f85",
   "metadata": {},
   "outputs": [],
   "source": [
    "train_n_epochs(400,losses)\n",
    "epochs_500 = model(_X).detach().numpy()"
   ]
  },
  {
   "cell_type": "code",
   "execution_count": null,
   "id": "5042e72f",
   "metadata": {},
   "outputs": [],
   "source": [
    "fig, axes = plt.subplots(1,2,figsize=(12,4))\n",
    "ax = axes[0]\n",
    "ax.plot(x,y,'o',label='data');\n",
    "\n",
    "ax.plot(_x,linear_model(_x,a,b),linewidth=3,alpha=0.5,label='Optimal fit')\n",
    "ax.plot(_x,random_init,color='lightgreen',linestyle='dashed',label='Random initialization')\n",
    "ax.plot(_x,epochs_100 ,color='lightblue',linestyle='dashed',label='100 \\\"epochs\\\"')\n",
    "ax.plot(_x,epochs_500 ,color='red',linestyle='dashed',label='500 \\\"epochs\\\"')\n",
    "ax.legend(prop={'size': 10})\n",
    "ax.set(xlabel='x, input',ylabel='y, output')\n",
    "\n",
    "ax = axes[1]\n",
    "ax.plot(losses)\n",
    "ax.set(xlabel='epoch',ylabel='loss');\n",
    "ax.set(xlim=(-100,1600))\n",
    "ax.set_yscale('log')"
   ]
  },
  {
   "cell_type": "code",
   "execution_count": null,
   "id": "8e8c0c3c",
   "metadata": {},
   "outputs": [],
   "source": [
    "train_n_epochs(1000,losses)\n",
    "epochs_1500 = model(_X).detach().numpy()"
   ]
  },
  {
   "cell_type": "code",
   "execution_count": null,
   "id": "31e554d2",
   "metadata": {},
   "outputs": [],
   "source": [
    "fig, axes = plt.subplots(1,2,figsize=(12,4))\n",
    "ax = axes[0]\n",
    "ax.plot(x,y,'o',label='data');\n",
    "\n",
    "ax.plot(_x,linear_model(_x,a,b),linewidth=3,alpha=0.5,label='Optimal fit')\n",
    "ax.plot(_x,random_init,color='lightgreen',linestyle='dashed',label='Random initialization')\n",
    "ax.plot(_x,epochs_100 ,color='lightblue',linestyle='dashed',label='100 \\\"epochs\\\"')\n",
    "ax.plot(_x,epochs_500 ,color='pink',linestyle='dashed',label='500 \\\"epochs\\\"')\n",
    "ax.plot(_x,epochs_1500 ,color='black',linestyle='dashed',label='1500 \\\"epochs\\\"')\n",
    "ax.legend(prop={'size': 10})\n",
    "ax.set(xlabel='x, input',ylabel='y, output')\n",
    "\n",
    "ax = axes[1]\n",
    "ax.plot(losses)\n",
    "ax.set(xlabel='epoch',ylabel='loss');\n",
    "ax.set(xlim=(-100,1600))\n",
    "ax.set_yscale('log')"
   ]
  },
  {
   "cell_type": "markdown",
   "id": "45c1cae0",
   "metadata": {},
   "source": [
    "Now generate some \"test\" data and see the performance\n",
    "-------"
   ]
  },
  {
   "cell_type": "code",
   "execution_count": null,
   "id": "eb8d3d0e",
   "metadata": {},
   "outputs": [],
   "source": [
    "x = np.linspace(0,20,21)\n",
    "y_test = 2*x + np.random.default_rng(12347).normal(0,4,len(x))\n",
    "\n",
    "(a,b), _ = curve_fit(linear_model, x, y_test)\n",
    "print('Optimal parameters: a={:.2f}, b={:.2f}'.format(a,b))"
   ]
  },
  {
   "cell_type": "code",
   "execution_count": null,
   "id": "985d2f07",
   "metadata": {},
   "outputs": [],
   "source": [
    "fig, axes = plt.subplots(1,2,figsize=(12,4))\n",
    "ax = axes[0]\n",
    "ax.plot(x,y,'o',color='lightblue',label='train data');\n",
    "ax.plot(x,y_test,'o',color='orangered',label='test data');\n",
    "ax.plot(_x,linear_model(_x,a,b),linewidth=3,color='orange',alpha=0.5,label='Optimal fit (test data)')\n",
    "ax.plot(_x,epochs_1500 ,color='black',linestyle='dashed',label='Trained parameters')\n",
    "ax.legend(prop={'size': 10})\n",
    "ax.set(xlabel='x, input',ylabel='y, output')\n",
    "\n",
    "ax = axes[1]\n",
    "ax.plot(losses)\n",
    "Y_test = torch.tensor(y_test.reshape(21,1)).float()\n",
    "loss_test = loss_function(model(X), Y_test).detach().numpy()\n",
    "print(loss_test)\n",
    "ax.plot([1500],[loss_test],'o',label='training loss')\n",
    "ax.legend()\n",
    "#ax.set(xlabel='epoch',ylabel='loss');\n",
    "ax.set(xlim=(-100,1600))\n",
    "ax.set_yscale('log')"
   ]
  },
  {
   "cell_type": "code",
   "execution_count": null,
   "id": "c37042d7",
   "metadata": {},
   "outputs": [],
   "source": [
    "a_nn = model.linear.weight.tolist()[0][0]\n",
    "b_nn = model.linear.bias.tolist()[0]\n",
    "\n",
    "print('Network a (trained):',a_nn)\n",
    "print('Network b (trained):',b_nn)"
   ]
  },
  {
   "cell_type": "code",
   "execution_count": null,
   "id": "9d4d166f",
   "metadata": {},
   "outputs": [],
   "source": [
    "fig, ax = plt.subplots(figsize=(6,4))\n",
    "ax.plot(x,y,'o',label='data');\n",
    "\n",
    "ax.plot(_x,linear_model(_x,a,b),linewidth=3,alpha=0.5,label='Linear fit')\n",
    "ax.plot(_x,model(_X).detach().numpy(),color='b',linestyle='dashed',label='Linear network')\n",
    "ax.legend()\n",
    "ax.set(xlabel='x, input',ylabel='y, output')"
   ]
  },
  {
   "cell_type": "code",
   "execution_count": null,
   "id": "68824e5b",
   "metadata": {},
   "outputs": [],
   "source": [
    "fig, ax = plt.subplots(figsize=(8,6))\n",
    "ax.plot(losses)\n",
    "ax.set(xlabel='epoch',ylabel='loss');\n",
    "ax.set_yscale('log')"
   ]
  }
 ],
 "metadata": {
  "kernelspec": {
   "display_name": "torch_pyg",
   "language": "python",
   "name": "torch_pyg"
  },
  "language_info": {
   "codemirror_mode": {
    "name": "ipython",
    "version": 3
   },
   "file_extension": ".py",
   "mimetype": "text/x-python",
   "name": "python",
   "nbconvert_exporter": "python",
   "pygments_lexer": "ipython3",
   "version": "3.8.13"
  }
 },
 "nbformat": 4,
 "nbformat_minor": 5
}
